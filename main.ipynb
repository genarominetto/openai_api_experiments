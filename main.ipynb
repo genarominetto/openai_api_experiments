{
  "nbformat": 4,
  "nbformat_minor": 0,
  "metadata": {
    "colab": {
      "provenance": [],
      "authorship_tag": "ABX9TyMi6rWJYXTz6ud+bD0w7/pb",
      "include_colab_link": true
    },
    "kernelspec": {
      "name": "python3",
      "display_name": "Python 3"
    },
    "language_info": {
      "name": "python"
    }
  },
  "cells": [
    {
      "cell_type": "markdown",
      "metadata": {
        "id": "view-in-github",
        "colab_type": "text"
      },
      "source": [
        "<a href=\"https://colab.research.google.com/github/genarominetto/openai_api_experiments/blob/main/main.ipynb\" target=\"_parent\"><img src=\"https://colab.research.google.com/assets/colab-badge.svg\" alt=\"Open In Colab\"/></a>"
      ]
    },
    {
      "cell_type": "code",
      "source": [
        "# @title Setup\n",
        "from openai import OpenAI\n",
        "from google.colab import userdata\n",
        "from pydantic import BaseModel\n",
        "\n",
        "api_key = userdata.get('OPENAI_API_KEY')\n",
        "client = OpenAI(api_key=api_key)\n",
        "\n"
      ],
      "metadata": {
        "cellView": "form",
        "id": "pLm8fAfg7q1M"
      },
      "execution_count": 1,
      "outputs": []
    },
    {
      "cell_type": "code",
      "execution_count": 2,
      "metadata": {
        "colab": {
          "base_uri": "https://localhost:8080/"
        },
        "id": "sMF4o11CnfRc",
        "outputId": "085425e3-ece6-49ab-a54c-90e31fdb355d",
        "cellView": "form"
      },
      "outputs": [
        {
          "output_type": "stream",
          "name": "stdout",
          "text": [
            "The capital of Canada is Ottawa.\n"
          ]
        }
      ],
      "source": [
        "# @title Text Generation Example\n",
        "response = client.chat.completions.create(\n",
        "  model=\"gpt-4o\",\n",
        "    messages=[\n",
        "        {\"role\": \"system\", \"content\": \"You are a helpful assistant.\"},\n",
        "        {\"role\": \"user\", \"content\": \"Can you say 'Hello, World!'?\"},\n",
        "        {\"role\": \"assistant\", \"content\": \"Hello, World!\"},\n",
        "        {\"role\": \"user\", \"content\": \"What is the capital of Canada?\"}\n",
        "    ],\n",
        "  response_format={\n",
        "    \"type\": \"text\"\n",
        "  },\n",
        "  temperature=1,\n",
        "  max_completion_tokens=2048,\n",
        "  top_p=1,\n",
        "  frequency_penalty=0,\n",
        "  presence_penalty=0\n",
        ")\n",
        "\n",
        "response_content = response.choices[0].message.content\n",
        "print(response_content)\n"
      ]
    },
    {
      "cell_type": "code",
      "source": [
        "# @title Structured Output Example\n",
        "class PythonSnippet(BaseModel):\n",
        "    code: str\n",
        "    explanation: str\n",
        "\n",
        "completion = client.beta.chat.completions.parse(\n",
        "    model=\"gpt-4o-2024-08-06\",\n",
        "    messages=[\n",
        "        {\"role\": \"system\", \"content\": \"Generate a Python script with an explanation.\"},\n",
        "        {\"role\": \"user\", \"content\": \"Write a Python script to calculate the factorial of a number.\"}\n",
        "    ],\n",
        "    response_format=PythonSnippet,\n",
        ")\n",
        "\n",
        "snippet = completion.choices[0].message.parsed\n",
        "code_output = snippet.code\n",
        "explanation_output = snippet.explanation\n",
        "exec(code_output)\n"
      ],
      "metadata": {
        "colab": {
          "base_uri": "https://localhost:8080/"
        },
        "id": "QjlT5JaWtuin",
        "outputId": "89b310e1-ecbc-4f50-a979-b53bee47b6e6",
        "cellView": "form"
      },
      "execution_count": 3,
      "outputs": [
        {
          "output_type": "stream",
          "name": "stdout",
          "text": [
            "The factorial of 5 is 120\n"
          ]
        }
      ]
    },
    {
      "cell_type": "code",
      "source": [
        "# @title Vector Embeddings Example\n",
        "\n",
        "# Function to generate vector embeddings for a text string\n",
        "def generate_embedding(text, model=\"text-embedding-3-small\"):\n",
        "    \"\"\"\n",
        "    Generate an embedding for the given text using the specified model.\n",
        "\n",
        "    Parameters:\n",
        "        text (str): The input text string.\n",
        "        model (str): The OpenAI embedding model to use (default: 'text-embedding-3-small').\n",
        "\n",
        "    Returns:\n",
        "        list: The embedding vector as a list of floats.\n",
        "    \"\"\"\n",
        "    response = client.embeddings.create(\n",
        "        input=text,\n",
        "        model=model\n",
        "    )\n",
        "    return response.data[0].embedding\n",
        "\n",
        "# Example text to generate embeddings for\n",
        "example_text = \"OpenAI provides powerful embedding models for various applications.\"\n",
        "\n",
        "# Generate the embedding\n",
        "embedding_vector = generate_embedding(example_text)\n",
        "\n",
        "# Display the resulting embedding\n",
        "print(\"Embedding Vector:\")\n",
        "print(embedding_vector[:3])\n",
        "\n",
        "# Optionally, you can save the embedding for later use\n",
        "# e.g., save to a CSV or store in a vector database.\n"
      ],
      "metadata": {
        "colab": {
          "base_uri": "https://localhost:8080/"
        },
        "id": "aHteEWUzNuZw",
        "outputId": "1c28dfc4-160f-4179-a2e8-d45a68ba0ba7",
        "cellView": "form"
      },
      "execution_count": 5,
      "outputs": [
        {
          "output_type": "stream",
          "name": "stdout",
          "text": [
            "Embedding Vector:\n",
            "[-0.005417396780103445, -0.03980717808008194, 0.0761934220790863]\n"
          ]
        }
      ]
    }
  ]
}