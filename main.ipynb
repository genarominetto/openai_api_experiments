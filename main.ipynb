{
  "nbformat": 4,
  "nbformat_minor": 0,
  "metadata": {
    "colab": {
      "provenance": [],
      "authorship_tag": "ABX9TyPEcqa4K0wICgeoKjPA91pO",
      "include_colab_link": true
    },
    "kernelspec": {
      "name": "python3",
      "display_name": "Python 3"
    },
    "language_info": {
      "name": "python"
    }
  },
  "cells": [
    {
      "cell_type": "markdown",
      "metadata": {
        "id": "view-in-github",
        "colab_type": "text"
      },
      "source": [
        "<a href=\"https://colab.research.google.com/github/genarominetto/openai_api_experiments/blob/main/main.ipynb\" target=\"_parent\"><img src=\"https://colab.research.google.com/assets/colab-badge.svg\" alt=\"Open In Colab\"/></a>"
      ]
    },
    {
      "cell_type": "code",
      "source": [
        "# @title Setup\n",
        "from openai import OpenAI\n",
        "from google.colab import userdata\n",
        "from pydantic import BaseModel\n",
        "\n",
        "api_key = userdata.get('OPENAI_API_KEY')\n",
        "client = OpenAI(api_key=api_key)\n",
        "\n"
      ],
      "metadata": {
        "cellView": "form",
        "id": "pLm8fAfg7q1M"
      },
      "execution_count": null,
      "outputs": []
    },
    {
      "cell_type": "code",
      "execution_count": null,
      "metadata": {
        "colab": {
          "base_uri": "https://localhost:8080/"
        },
        "cellView": "form",
        "id": "sMF4o11CnfRc",
        "outputId": "4f078238-5541-41f6-ed97-7243a358f184"
      },
      "outputs": [
        {
          "output_type": "stream",
          "name": "stdout",
          "text": [
            "The capital of Canada is Ottawa.\n"
          ]
        }
      ],
      "source": [
        "# @title Hello World Example\n",
        "response = client.chat.completions.create(\n",
        "  model=\"gpt-4o\",\n",
        "    messages=[\n",
        "        {\"role\": \"system\", \"content\": \"You are a helpful assistant.\"},\n",
        "        {\"role\": \"user\", \"content\": \"Can you say 'Hello, World!'?\"},\n",
        "        {\"role\": \"assistant\", \"content\": \"Hello, World!\"},\n",
        "        {\"role\": \"user\", \"content\": \"What is the capital of Canada?\"}\n",
        "    ],\n",
        "  response_format={\n",
        "    \"type\": \"text\"\n",
        "  },\n",
        "  temperature=1,\n",
        "  max_completion_tokens=2048,\n",
        "  top_p=1,\n",
        "  frequency_penalty=0,\n",
        "  presence_penalty=0\n",
        ")\n",
        "\n",
        "response_content = response.choices[0].message.content\n",
        "print(response_content)\n"
      ]
    },
    {
      "cell_type": "code",
      "source": [
        "# @title Structured Output Example\n",
        "class PythonSnippet(BaseModel):\n",
        "    code: str\n",
        "    explanation: str\n",
        "\n",
        "completion = client.beta.chat.completions.parse(\n",
        "    model=\"gpt-4o-2024-08-06\",\n",
        "    messages=[\n",
        "        {\"role\": \"system\", \"content\": \"Generate a Python script with an explanation.\"},\n",
        "        {\"role\": \"user\", \"content\": \"Write a Python script to calculate the factorial of a number.\"}\n",
        "    ],\n",
        "    response_format=PythonSnippet,\n",
        ")\n",
        "\n",
        "snippet = completion.choices[0].message.parsed\n",
        "code_output = snippet.code\n",
        "explanation_output = snippet.explanation\n",
        "exec(code_output)\n"
      ],
      "metadata": {
        "colab": {
          "base_uri": "https://localhost:8080/"
        },
        "cellView": "form",
        "id": "QjlT5JaWtuin",
        "outputId": "76f76bc8-6ffc-4e59-a31a-aed4b6f8abe2"
      },
      "execution_count": null,
      "outputs": [
        {
          "output_type": "stream",
          "name": "stdout",
          "text": [
            "The factorial of 5 is 120.\n"
          ]
        }
      ]
    }
  ]
}